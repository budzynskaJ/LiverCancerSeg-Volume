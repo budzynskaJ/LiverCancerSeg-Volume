{
 "cells": [
  {
   "cell_type": "code",
   "execution_count": 9,
   "metadata": {},
   "outputs": [],
   "source": [
    "import nibabel as nib\n",
    "import numpy as np\n",
    "\n",
    "img = nib.load(\"C:/Users/Użytkownik/Desktop/studia/MAGISTERKA/mgr/data/volumes/volume-0.nii\")\n"
   ]
  },
  {
   "cell_type": "code",
   "execution_count": 10,
   "metadata": {},
   "outputs": [
    {
     "name": "stdout",
     "output_type": "stream",
     "text": [
      "<class 'nibabel.nifti1.Nifti1Header'> object, endian='<'\n",
      "sizeof_hdr      : 348\n",
      "data_type       : b''\n",
      "db_name         : b''\n",
      "extents         : 0\n",
      "session_error   : 0\n",
      "regular         : b'r'\n",
      "dim_info        : 0\n",
      "dim             : [  3 512 512  75   1   1   1   1]\n",
      "intent_p1       : 0.0\n",
      "intent_p2       : 0.0\n",
      "intent_p3       : 0.0\n",
      "intent_code     : none\n",
      "datatype        : int16\n",
      "bitpix          : 16\n",
      "slice_start     : 0\n",
      "pixdim          : [-1.00000e+00  7.03125e-01  7.03125e-01  5.00000e+00  0.00000e+00\n",
      "  1.00000e+00  1.00000e+00  5.22410e+04]\n",
      "vox_offset      : 0.0\n",
      "scl_slope       : nan\n",
      "scl_inter       : nan\n",
      "slice_end       : 0\n",
      "slice_code      : unknown\n",
      "xyzt_units      : 10\n",
      "cal_max         : 0.0\n",
      "cal_min         : 0.0\n",
      "slice_duration  : 0.0\n",
      "toffset         : 0.0\n",
      "glmax           : 255\n",
      "glmin           : 0\n",
      "descrip         : b'TE=0;sec=52241.0000;name='\n",
      "aux_file        : b'!62ABDOMENNATIVUNDVENS'\n",
      "qform_code      : scanner\n",
      "sform_code      : scanner\n",
      "quatern_b       : 0.0\n",
      "quatern_c       : 1.0\n",
      "quatern_d       : 0.0\n",
      "qoffset_x       : 172.9\n",
      "qoffset_y       : -179.29688\n",
      "qoffset_z       : -368.0\n",
      "srow_x          : [ -0.703125   0.         0.       172.9     ]\n",
      "srow_y          : [   0.          0.703125    0.       -179.29688 ]\n",
      "srow_z          : [   0.    0.    5. -368.]\n",
      "intent_name     : b''\n",
      "magic           : b'n+1'\n"
     ]
    }
   ],
   "source": [
    "header = img.header\n",
    "print(header)"
   ]
  },
  {
   "cell_type": "code",
   "execution_count": 11,
   "metadata": {},
   "outputs": [
    {
     "name": "stdout",
     "output_type": "stream",
     "text": [
      "(0.703125, 0.703125, 5.0)\n"
     ]
    }
   ],
   "source": [
    "# get the voxel sizes in milimeters\n",
    "print(header.get_zooms())\n",
    "\n",
    "# ostatnie to odległość między sliceami, które mnie interesują "
   ]
  },
  {
   "cell_type": "code",
   "execution_count": 5,
   "metadata": {},
   "outputs": [
    {
     "name": "stdout",
     "output_type": "stream",
     "text": [
      "Liczba sliceów: 75\n",
      "[31951795.0, 32208035.0, 33285390.0, 32367970.0, 32232355.0, 32944780.0, 36297915.0, 37557155.0, 37536295.0, 41315780.0, 38709610.0, 34883780.0, 31606375.0, 31566205.0, 32720545.0, 34814685.0, 33257945.0, 36649915.0, 35581920.0, 30515780.0, 29768795.0, 32392845.0, 36588275.0, 40024415.0, 40722655.0, 40747400.0, 42177025.0, 42522410.0, 39785105.0, 43385000.0, 42238925.0, 41513395.0, 40615200.0, 44391305.0, 42184215.0, 42161805.0, 41574910.0, 42465165.0, 42074005.0, 43700860.0, 41335515.0, 40618175.0, 40831985.0, 36079900.0, 36278520.0, 35825270.0, 37038430.0, 37917570.0, 34691095.0, 34071005.0, 32741445.0, 34989805.0, 35141005.0, 32725610.0, 31069010.0, 32470540.0, 29650855.0, 31281410.0, 33323690.0, 34410640.0, 33788940.0, 34316585.0, 35125370.0, 38765790.0, 43587520.0, 45497480.0, 49454745.0, 51053655.0, 58125505.0, 53813835.0, 49201850.0, 54920655.0, 51605755.0, 46314435.0]\n"
     ]
    }
   ],
   "source": []
  }
 ],
 "metadata": {
  "kernelspec": {
   "display_name": "Python 3",
   "language": "python",
   "name": "python3"
  },
  "language_info": {
   "codemirror_mode": {
    "name": "ipython",
    "version": 3
   },
   "file_extension": ".py",
   "mimetype": "text/x-python",
   "name": "python",
   "nbconvert_exporter": "python",
   "pygments_lexer": "ipython3",
   "version": "3.8.18"
  }
 },
 "nbformat": 4,
 "nbformat_minor": 2
}
