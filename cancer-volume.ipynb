{
 "cells": [
  {
   "cell_type": "code",
   "execution_count": 70,
   "metadata": {},
   "outputs": [
    {
     "name": "stdout",
     "output_type": "stream",
     "text": [
      "Image: volume-9_346_seg.png Pixels: 0\n",
      "Image: volume-9_347_seg.png Pixels: 0\n",
      "Image: volume-9_348_seg.png Pixels: 0\n",
      "Image: volume-9_349_seg.png Pixels: 0\n",
      "Image: volume-9_350_seg.png Pixels: 0\n",
      "Image: volume-9_351_seg.png Pixels: 0\n",
      "Image: volume-9_352_seg.png Pixels: 0\n",
      "Image: volume-9_353_seg.png Pixels: 0\n",
      "Image: volume-9_354_seg.png Pixels: 0\n",
      "Image: volume-9_355_seg.png Pixels: 0\n",
      "Image: volume-9_356_seg.png Pixels: 0\n",
      "Image: volume-9_357_seg.png Pixels: 0\n",
      "Image: volume-9_358_seg.png Pixels: 0\n",
      "Image: volume-9_359_seg.png Pixels: 0\n",
      "Image: volume-9_360_seg.png Pixels: 0\n",
      "Image: volume-9_361_seg.png Pixels: 0\n",
      "Image: volume-9_362_seg.png Pixels: 0\n",
      "Image: volume-9_363_seg.png Pixels: 0\n",
      "Image: volume-9_364_seg.png Pixels: 0\n",
      "Image: volume-9_365_seg.png Pixels: 0\n",
      "Image: volume-9_366_seg.png Pixels: 0\n",
      "Image: volume-9_367_seg.png Pixels: 0\n",
      "Image: volume-9_368_seg.png Pixels: 0\n",
      "Image: volume-9_369_seg.png Pixels: 0\n",
      "Image: volume-9_370_seg.png Pixels: 0\n",
      "Image: volume-9_371_seg.png Pixels: 0\n",
      "Image: volume-9_372_seg.png Pixels: 0\n",
      "Image: volume-9_373_seg.png Pixels: 0\n",
      "Image: volume-9_374_seg.png Pixels: 0\n",
      "Image: volume-9_375_seg.png Pixels: 0\n",
      "Image: volume-9_376_seg.png Pixels: 0\n",
      "Image: volume-9_377_seg.png Pixels: 0\n",
      "Image: volume-9_378_seg.png Pixels: 0\n",
      "Image: volume-9_379_seg.png Pixels: 0\n",
      "Image: volume-9_380_seg.png Pixels: 0\n",
      "Image: volume-9_381_seg.png Pixels: 4\n",
      "Image: volume-9_382_seg.png Pixels: 36\n",
      "Image: volume-9_383_seg.png Pixels: 53\n",
      "Image: volume-9_384_seg.png Pixels: 52\n",
      "Image: volume-9_385_seg.png Pixels: 71\n",
      "Image: volume-9_386_seg.png Pixels: 72\n",
      "Image: volume-9_387_seg.png Pixels: 82\n",
      "Image: volume-9_388_seg.png Pixels: 99\n",
      "Image: volume-9_389_seg.png Pixels: 82\n",
      "Image: volume-9_390_seg.png Pixels: 71\n",
      "Image: volume-9_391_seg.png Pixels: 58\n",
      "Image: volume-9_392_seg.png Pixels: 64\n",
      "Image: volume-9_393_seg.png Pixels: 50\n",
      "Image: volume-9_394_seg.png Pixels: 0\n",
      "Image: volume-9_395_seg.png Pixels: 0\n",
      "Image: volume-9_396_seg.png Pixels: 4\n",
      "Image: volume-9_397_seg.png Pixels: 4\n",
      "Image: volume-9_398_seg.png Pixels: 0\n",
      "Image: volume-9_399_seg.png Pixels: 0\n",
      "Image: volume-9_400_seg.png Pixels: 0\n",
      "Image: volume-9_401_seg.png Pixels: 0\n",
      "Image: volume-9_402_seg.png Pixels: 0\n",
      "Image: volume-9_403_seg.png Pixels: 0\n",
      "Image: volume-9_404_seg.png Pixels: 0\n",
      "Image: volume-9_405_seg.png Pixels: 0\n",
      "Image: volume-9_406_seg.png Pixels: 0\n",
      "Image: volume-9_407_seg.png Pixels: 0\n",
      "Image: volume-9_408_seg.png Pixels: 0\n",
      "Image: volume-9_409_seg.png Pixels: 0\n",
      "Image: volume-9_410_seg.png Pixels: 0\n",
      "Image: volume-9_411_seg.png Pixels: 0\n",
      "Image: volume-9_412_seg.png Pixels: 0\n",
      "Image: volume-9_413_seg.png Pixels: 0\n",
      "Image: volume-9_414_seg.png Pixels: 10\n",
      "Image: volume-9_415_seg.png Pixels: 28\n",
      "Image: volume-9_416_seg.png Pixels: 9\n",
      "Image: volume-9_417_seg.png Pixels: 25\n",
      "Image: volume-9_418_seg.png Pixels: 44\n",
      "Image: volume-9_419_seg.png Pixels: 39\n",
      "Image: volume-9_420_seg.png Pixels: 31\n",
      "Image: volume-9_421_seg.png Pixels: 29\n",
      "Image: volume-9_422_seg.png Pixels: 23\n",
      "Image: volume-9_423_seg.png Pixels: 1\n",
      "Image: volume-9_424_seg.png Pixels: 7\n",
      "Image: volume-9_425_seg.png Pixels: 4\n",
      "Image: volume-9_426_seg.png Pixels: 5\n",
      "Image: volume-9_427_seg.png Pixels: 0\n",
      "Image: volume-9_428_seg.png Pixels: 0\n",
      "Image: volume-9_429_seg.png Pixels: 0\n",
      "Image: volume-9_430_seg.png Pixels: 0\n",
      "Image: volume-9_431_seg.png Pixels: 0\n",
      "Image: volume-9_432_seg.png Pixels: 0\n",
      "Image: volume-9_433_seg.png Pixels: 0\n",
      "Image: volume-9_434_seg.png Pixels: 0\n",
      "Image: volume-9_435_seg.png Pixels: 0\n",
      "Image: volume-9_436_seg.png Pixels: 0\n",
      "Image: volume-9_437_seg.png Pixels: 0\n",
      "Image: volume-9_438_seg.png Pixels: 0\n",
      "Image: volume-9_439_seg.png Pixels: 0\n",
      "Image: volume-9_440_seg.png Pixels: 0\n",
      "Image: volume-9_441_seg.png Pixels: 0\n",
      "Image: volume-9_442_seg.png Pixels: 0\n",
      "Image: volume-9_443_seg.png Pixels: 0\n",
      "Image: volume-9_444_seg.png Pixels: 0\n",
      "Image: volume-9_445_seg.png Pixels: 0\n",
      "Image: volume-9_446_seg.png Pixels: 0\n",
      "Image: volume-9_447_seg.png Pixels: 0\n",
      "Image: volume-9_448_seg.png Pixels: 0\n",
      "Image: volume-9_449_seg.png Pixels: 0\n",
      "Image: volume-9_450_seg.png Pixels: 0\n",
      "Image: volume-9_451_seg.png Pixels: 0\n",
      "Image: volume-9_452_seg.png Pixels: 0\n",
      "Image: volume-9_453_seg.png Pixels: 0\n",
      "Image: volume-9_454_seg.png Pixels: 0\n",
      "Image: volume-9_455_seg.png Pixels: 0\n",
      "Image: volume-9_456_seg.png Pixels: 0\n",
      "Image: volume-9_457_seg.png Pixels: 0\n",
      "Image: volume-9_458_seg.png Pixels: 0\n",
      "Image: volume-9_459_seg.png Pixels: 0\n",
      "Image: volume-9_460_seg.png Pixels: 0\n",
      "Image: volume-9_461_seg.png Pixels: 0\n",
      "Image: volume-9_462_seg.png Pixels: 0\n",
      "Image: volume-9_463_seg.png Pixels: 0\n",
      "Image: volume-9_464_seg.png Pixels: 0\n",
      "Image: volume-9_465_seg.png Pixels: 0\n",
      "Image: volume-9_466_seg.png Pixels: 0\n",
      "Image: volume-9_467_seg.png Pixels: 0\n",
      "Image: volume-9_468_seg.png Pixels: 0\n",
      "Image: volume-9_469_seg.png Pixels: 0\n",
      "Image: volume-9_470_seg.png Pixels: 0\n",
      "Image: volume-9_471_seg.png Pixels: 0\n",
      "Image: volume-9_472_seg.png Pixels: 0\n",
      "Image: volume-9_473_seg.png Pixels: 0\n",
      "Image: volume-9_474_seg.png Pixels: 0\n",
      "Image: volume-9_475_seg.png Pixels: 0\n",
      "Image: volume-9_476_seg.png Pixels: 0\n",
      "Image: volume-9_477_seg.png Pixels: 0\n",
      "Image: volume-9_478_seg.png Pixels: 0\n",
      "Image: volume-9_479_seg.png Pixels: 0\n",
      "Image: volume-9_480_seg.png Pixels: 0\n",
      "Image: volume-9_481_seg.png Pixels: 0\n",
      "Image: volume-9_482_seg.png Pixels: 0\n",
      "Image: volume-9_483_seg.png Pixels: 0\n",
      "Image: volume-9_484_seg.png Pixels: 0\n",
      "Image: volume-9_485_seg.png Pixels: 0\n",
      "Image: volume-9_486_seg.png Pixels: 0\n",
      "Image: volume-9_487_seg.png Pixels: 0\n",
      "Image: volume-9_488_seg.png Pixels: 0\n",
      "Image: volume-9_489_seg.png Pixels: 0\n",
      "Image: volume-9_490_seg.png Pixels: 0\n",
      "Image: volume-9_491_seg.png Pixels: 0\n",
      "Image: volume-9_492_seg.png Pixels: 0\n",
      "Image: volume-9_493_seg.png Pixels: 0\n",
      "Image: volume-9_494_seg.png Pixels: 0\n",
      "Image: volume-9_495_seg.png Pixels: 0\n",
      "Image: volume-9_496_seg.png Pixels: 0\n",
      "Image: volume-9_497_seg.png Pixels: 0\n",
      "Image: volume-9_498_seg.png Pixels: 0\n",
      "Image: volume-9_499_seg.png Pixels: 0\n",
      "Image: volume-9_500_seg.png Pixels: 0\n",
      "Image: volume-9_501_seg.png Pixels: 0\n",
      "Image: volume-9_502_seg.png Pixels: 0\n",
      "Image: volume-9_503_seg.png Pixels: 0\n",
      "Image: volume-9_504_seg.png Pixels: 0\n",
      "Image: volume-9_505_seg.png Pixels: 0\n",
      "Image: volume-9_506_seg.png Pixels: 0\n",
      "Image: volume-9_507_seg.png Pixels: 0\n",
      "Image: volume-9_508_seg.png Pixels: 0\n",
      "Image: volume-9_509_seg.png Pixels: 0\n",
      "Image: volume-9_510_seg.png Pixels: 0\n",
      "Image: volume-9_511_seg.png Pixels: 0\n",
      "Image: volume-9_512_seg.png Pixels: 0\n",
      "Image: volume-9_513_seg.png Pixels: 0\n",
      "[0, 0, 0, 0, 0, 0, 0, 0, 0, 0, 0, 0, 0, 0, 0, 0, 0, 0, 0, 0, 0, 0, 0, 0, 0, 0, 0, 0, 0, 0, 0, 0, 0, 0, 0, 4, 36, 53, 52, 71, 72, 82, 99, 82, 71, 58, 64, 50, 0, 0, 4, 4, 0, 0, 0, 0, 0, 0, 0, 0, 0, 0, 0, 0, 0, 0, 0, 0, 10, 28, 9, 25, 44, 39, 31, 29, 23, 1, 7, 4, 5, 0, 0, 0, 0, 0, 0, 0, 0, 0, 0, 0, 0, 0, 0, 0, 0, 0, 0, 0, 0, 0, 0, 0, 0, 0, 0, 0, 0, 0, 0, 0, 0, 0, 0, 0, 0, 0, 0, 0, 0, 0, 0, 0, 0, 0, 0, 0, 0, 0, 0, 0, 0, 0, 0, 0, 0, 0, 0, 0, 0, 0, 0, 0, 0, 0, 0, 0, 0, 0, 0, 0, 0, 0, 0, 0, 0, 0, 0, 0, 0, 0, 0, 0, 0, 0, 0, 0]\n"
     ]
    }
   ],
   "source": [
    "from PIL import Image\n",
    "import os\n",
    "\n",
    "data_dir = '/home/budzynskaj/project/LiverCancerProject/data/d/dane/results/deeplabv-aug-30000/'\n",
    "\n",
    "\n",
    "# Initialize a dictionary to store pixel counts for each image\n",
    "pixel_counts_per_image = []\n",
    "\n",
    "for filename in os.listdir(data_dir):\n",
    "    if \"volume-9_\" in filename:\n",
    "        image_path = os.path.join(data_dir, filename)\n",
    "\n",
    "        multiclassImage = Image.open(image_path)\n",
    "        multiclassImage = multiclassImage.convert('RGB')\n",
    "        width, height = multiclassImage.size\n",
    "\n",
    "        # Initialize pixel count for this image\n",
    "        pixel_counts = 0\n",
    "\n",
    "        # Iterate through each pixel and count matching colors\n",
    "        for y in range(height):\n",
    "            for x in range(width):\n",
    "                \n",
    "                if multiclassImage.getpixel((x,y)) == (0,0,255):\n",
    "                    \n",
    "                    pixel_counts += 1\n",
    "\n",
    "        # Store the pixel count for this image\n",
    "        pixel_counts_per_image.append(pixel_counts)\n",
    "        print(f\"Image: {filename} Pixels: {pixel_counts}\")\n",
    "\n",
    "print(pixel_counts_per_image)\n"
   ]
  },
  {
   "cell_type": "code",
   "execution_count": 71,
   "metadata": {},
   "outputs": [
    {
     "name": "stdout",
     "output_type": "stream",
     "text": [
      "1057\n"
     ]
    }
   ],
   "source": [
    "total_count = sum(pixel_counts_per_image)\n",
    "print(total_count)"
   ]
  },
  {
   "cell_type": "code",
   "execution_count": 72,
   "metadata": {},
   "outputs": [],
   "source": [
    "import nibabel as nib\n",
    "import numpy as np\n",
    "\n",
    "img_ni = nib.load(\"/home/budzynskaj/project/LiverCancerProject/data/d/dane/dicom/volumes/volume-9.nii\")\n"
   ]
  },
  {
   "cell_type": "code",
   "execution_count": 73,
   "metadata": {},
   "outputs": [
    {
     "name": "stdout",
     "output_type": "stream",
     "text": [
      "<class 'nibabel.nifti1.Nifti1Header'> object, endian='<'\n",
      "sizeof_hdr      : 348\n",
      "data_type       : b''\n",
      "db_name         : b''\n",
      "extents         : 0\n",
      "session_error   : 0\n",
      "regular         : b'r'\n",
      "dim_info        : 0\n",
      "dim             : [  3 512 512 549   1   1   1   1]\n",
      "intent_p1       : 0.0\n",
      "intent_p2       : 0.0\n",
      "intent_p3       : 0.0\n",
      "intent_code     : none\n",
      "datatype        : int16\n",
      "bitpix          : 16\n",
      "slice_start     : 0\n",
      "pixdim          : [-1.0000000e+00  8.2031250e-01  8.2031250e-01  1.0000000e+00\n",
      "  0.0000000e+00  1.0000000e+00  1.0000000e+00  5.0641996e+04]\n",
      "vox_offset      : 0.0\n",
      "scl_slope       : nan\n",
      "scl_inter       : nan\n",
      "slice_end       : 0\n",
      "slice_code      : unknown\n",
      "xyzt_units      : 10\n",
      "cal_max         : 0.0\n",
      "cal_min         : 0.0\n",
      "slice_duration  : 0.0\n",
      "toffset         : 0.0\n",
      "glmax           : 255\n",
      "glmin           : 0\n",
      "descrip         : b'TE=0;sec=50641.9949;name='\n",
      "aux_file        : b'80ml Imeron 400 Ven s Ga'\n",
      "qform_code      : scanner\n",
      "sform_code      : scanner\n",
      "quatern_b       : 0.0\n",
      "quatern_c       : 1.0\n",
      "quatern_d       : 0.0\n",
      "qoffset_x       : 196.58984\n",
      "qoffset_y       : -66.58984\n",
      "qoffset_z       : -278.1\n",
      "srow_x          : [ -0.8203125   0.          0.        196.58984  ]\n",
      "srow_y          : [  0.          0.8203125   0.        -66.58984  ]\n",
      "srow_z          : [   0.     0.     1.  -278.1]\n",
      "intent_name     : b''\n",
      "magic           : b'n+1'\n"
     ]
    }
   ],
   "source": [
    "header = img_ni.header\n",
    "print(header)"
   ]
  },
  {
   "cell_type": "code",
   "execution_count": 74,
   "metadata": {},
   "outputs": [
    {
     "name": "stdout",
     "output_type": "stream",
     "text": [
      "(0.8203125, 0.8203125, 1.0)\n"
     ]
    }
   ],
   "source": [
    "# get the voxel sizes in milimeters\n",
    "sx, sy, sz = header.get_zooms()\n",
    "#The last value of header.get_zooms() is the time between scans in milliseconds; this is the equivalent of voxel size on the time axis.\n",
    "\n",
    "print(header.get_zooms())\n",
    "\n",
    "# ostatnie to odległość między sliceami, które mnie interesują "
   ]
  },
  {
   "cell_type": "code",
   "execution_count": 75,
   "metadata": {},
   "outputs": [
    {
     "name": "stdout",
     "output_type": "stream",
     "text": [
      "711.2686157226562\n"
     ]
    }
   ],
   "source": [
    "vols = total_count * sx * sy * sz\n",
    "print(vols)"
   ]
  },
  {
   "cell_type": "code",
   "execution_count": 13,
   "metadata": {},
   "outputs": [
    {
     "name": "stdout",
     "output_type": "stream",
     "text": [
      "0.53930664\n"
     ]
    },
    {
     "ename": "TypeError",
     "evalue": "'int' object is not iterable",
     "output_type": "error",
     "traceback": [
      "\u001b[0;31m---------------------------------------------------------------------------\u001b[0m",
      "\u001b[0;31mTypeError\u001b[0m                                 Traceback (most recent call last)",
      "Cell \u001b[0;32mIn[13], line 6\u001b[0m\n\u001b[1;32m      2\u001b[0m \u001b[38;5;28mprint\u001b[39m(area_of_pix)\n\u001b[1;32m      4\u001b[0m volume_all \u001b[38;5;241m=\u001b[39m []\n\u001b[0;32m----> 6\u001b[0m \u001b[38;5;28;01mfor\u001b[39;00m i \u001b[38;5;129;01min\u001b[39;00m pixel_counts:\n\u001b[1;32m      7\u001b[0m     volume \u001b[38;5;241m=\u001b[39m area_of_pix \u001b[38;5;241m*\u001b[39m i \u001b[38;5;241m*\u001b[39m sz\n\u001b[1;32m      8\u001b[0m     \u001b[38;5;28mprint\u001b[39m(volume)\n",
      "\u001b[0;31mTypeError\u001b[0m: 'int' object is not iterable"
     ]
    }
   ],
   "source": [
    "area_of_pix = sx * sy \n",
    "print(area_of_pix)\n",
    "\n",
    "volume_all = []\n",
    "\n",
    "for i in pixel_counts:\n",
    "    volume = area_of_pix * i * sz\n",
    "    print(volume)\n",
    "    volume_all.append(volume)\n",
    "\n",
    "\n",
    "print(volume_all)\n",
    "\n",
    "vol = sum(volume_all)\n",
    "print(vol)"
   ]
  },
  {
   "cell_type": "code",
   "execution_count": 31,
   "metadata": {},
   "outputs": [
    {
     "name": "stdout",
     "output_type": "stream",
     "text": [
      "Total Tumor Volume: 1947.39 mm^3\n"
     ]
    }
   ],
   "source": [
    "# Volume calculation\n",
    "total_volume = 0\n",
    "for pixel_count in pixel_counts:\n",
    "  # Calculate volume for each slice\n",
    "  slice_volume = pixel_count * sx * sy * sz\n",
    "  total_volume += slice_volume\n",
    "\n",
    "# Print the total volume in cubic millimeters\n",
    "print(f\"Total Tumor Volume: {total_volume:.2f} mm^3\")\n"
   ]
  }
 ],
 "metadata": {
  "kernelspec": {
   "display_name": "openmmlab",
   "language": "python",
   "name": "python3"
  },
  "language_info": {
   "codemirror_mode": {
    "name": "ipython",
    "version": 3
   },
   "file_extension": ".py",
   "mimetype": "text/x-python",
   "name": "python",
   "nbconvert_exporter": "python",
   "pygments_lexer": "ipython3",
   "version": "3.8.19"
  }
 },
 "nbformat": 4,
 "nbformat_minor": 2
}
